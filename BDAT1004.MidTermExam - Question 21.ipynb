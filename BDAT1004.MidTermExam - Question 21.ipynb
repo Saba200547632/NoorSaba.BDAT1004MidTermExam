{
 "cells": [
  {
   "cell_type": "markdown",
   "id": "47114289",
   "metadata": {},
   "source": [
    "### Data Programming Midterm Exam Question 21"
   ]
  },
  {
   "cell_type": "code",
   "execution_count": 21,
   "id": "d57f4044",
   "metadata": {},
   "outputs": [
    {
     "name": "stdout",
     "output_type": "stream",
     "text": [
      "Enter x-coordinate of Point 1: 3\n",
      "Enter y-coordinate of Point 1: 4\n",
      "Enter x-coordinate of Point 2: 0\n",
      "Enter y-coordinate of Point 2: 0\n",
      "Length: 5.0\n",
      "Slope: 1.3333333333333333\n"
     ]
    }
   ],
   "source": [
    "class Point:\n",
    "    def __init__(self, x=0, y=0):\n",
    "        self.x = x\n",
    "        self.y = y\n",
    "\n",
    "class Segment:\n",
    "    def __init__(self, p1, p2):\n",
    "        self.start = p1\n",
    "        self.end = p2\n",
    "\n",
    "    def length(self):\n",
    "        return ((self.end.x - self.start.x) ** 2 + (self.end.y - self.start.y) ** 2) ** 0.5\n",
    "\n",
    "    def slope(self):\n",
    "        a = self.end.x - self.start.x  #Difference between x coordinates\n",
    "        b = self.end.y - self.start.y  #Difference between y coordinates\n",
    "        if a == 0:\n",
    "            return None  #slope is unbounded(Vertical line)\n",
    "        else:\n",
    "            return b / a\n",
    "\n",
    "#Get user input for coordinates of x1,y1(Point 1)\n",
    "x1 = float(input(\"Enter x-coordinate of Point 1: \"))\n",
    "y1 = float(input(\"Enter y-coordinate of Point 1: \"))\n",
    "p1 = Point(x1, y1)\n",
    "\n",
    "#Get user input for coordinates of x2,y2(Point 2)\n",
    "x2 = float(input(\"Enter x-coordinate of Point 2: \"))\n",
    "y2 = float(input(\"Enter y-coordinate of Point 2: \"))\n",
    "p2 = Point(x2, y2)\n",
    "\n",
    "#Calling Segment class\n",
    "s = Segment(p1, p2)\n",
    "\n",
    "#Print the length and slope of the segment\n",
    "print(\"Length:\", s.length())\n",
    "print(\"Slope:\", s.slope())\n"
   ]
  }
 ],
 "metadata": {
  "kernelspec": {
   "display_name": "Python 3",
   "language": "python",
   "name": "python3"
  },
  "language_info": {
   "codemirror_mode": {
    "name": "ipython",
    "version": 3
   },
   "file_extension": ".py",
   "mimetype": "text/x-python",
   "name": "python",
   "nbconvert_exporter": "python",
   "pygments_lexer": "ipython3",
   "version": "3.8.8"
  }
 },
 "nbformat": 4,
 "nbformat_minor": 5
}
