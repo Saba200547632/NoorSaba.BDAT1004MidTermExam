{
 "cells": [
  {
   "cell_type": "code",
   "execution_count": 36,
   "id": "6f1444c1",
   "metadata": {},
   "outputs": [],
   "source": [
    "# Question 23\n",
    "\n",
    "def f(i, num):\n",
    "    if(num > 0):\n",
    "        f(i, num//2);               #print previous pattern\n",
    "        print(\" \"*i + \"*\"*num);     \n",
    "        f(i + 1, num//2); \n",
    "f(0, 0)"
   ]
  },
  {
   "cell_type": "code",
   "execution_count": 33,
   "id": "2543b75c",
   "metadata": {},
   "outputs": [
    {
     "name": "stdout",
     "output_type": "stream",
     "text": [
      "*\n"
     ]
    }
   ],
   "source": [
    "f(0, 1)"
   ]
  },
  {
   "cell_type": "code",
   "execution_count": 34,
   "id": "a4f50210",
   "metadata": {},
   "outputs": [
    {
     "name": "stdout",
     "output_type": "stream",
     "text": [
      "*\n",
      "**\n",
      " *\n"
     ]
    }
   ],
   "source": [
    "f(0, 2)"
   ]
  },
  {
   "cell_type": "code",
   "execution_count": 35,
   "id": "08deb031",
   "metadata": {},
   "outputs": [
    {
     "name": "stdout",
     "output_type": "stream",
     "text": [
      "*\n",
      "**\n",
      " *\n",
      "****\n",
      " *\n",
      " **\n",
      "  *\n"
     ]
    }
   ],
   "source": [
    "f(0, 4)"
   ]
  },
  {
   "cell_type": "code",
   "execution_count": null,
   "id": "befcfef3",
   "metadata": {},
   "outputs": [],
   "source": []
  }
 ],
 "metadata": {
  "kernelspec": {
   "display_name": "Python 3",
   "language": "python",
   "name": "python3"
  },
  "language_info": {
   "codemirror_mode": {
    "name": "ipython",
    "version": 3
   },
   "file_extension": ".py",
   "mimetype": "text/x-python",
   "name": "python",
   "nbconvert_exporter": "python",
   "pygments_lexer": "ipython3",
   "version": "3.8.8"
  }
 },
 "nbformat": 4,
 "nbformat_minor": 5
}
